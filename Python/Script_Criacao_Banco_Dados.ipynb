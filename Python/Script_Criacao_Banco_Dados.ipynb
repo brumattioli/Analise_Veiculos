{
 "cells": [
  {
   "cell_type": "markdown",
   "id": "46806e04-6e54-4b48-b8e9-c39e4ba700e3",
   "metadata": {
    "id": "034e61a3-eeef-4ad9-a8c8-1e2d20d377ae"
   },
   "source": [
    "**Trabalho:** Projeto Integrador 3\n",
    "\n",
    "**Discentes**: Bruna Mattioli de Oliveira e Gabriel Andrade Varga\n",
    "\n",
    "**Descrição:** Criação do Banco de Dados do Data Warehouse no PostgreSQL e imputação dos dados oriundos de um arquivo CSV diretamente no Data Warehouse"
   ]
  },
  {
   "cell_type": "code",
   "execution_count": 1,
   "id": "63aecc88-b32c-46e1-ad32-86f939d3f2b2",
   "metadata": {
    "id": "05dfc4e7-39c1-45bf-8b2e-eada5088ea8c"
   },
   "outputs": [
    {
     "data": {
      "text/plain": [
       "'pt_BR.UTF-8'"
      ]
     },
     "execution_count": 1,
     "metadata": {},
     "output_type": "execute_result"
    }
   ],
   "source": [
    "import numpy as np\n",
    "import pandas as pd\n",
    "import psycopg2 \n",
    "import csv\n",
    "import pandas.io.sql as sqlio\n",
    "from matplotlib import pyplot as plt\n",
    "from matplotlib import ticker as ticker\n",
    "import locale\n",
    "locale.setlocale(locale.LC_NUMERIC, \"pt_BR.UTF-8\")"
   ]
  },
  {
   "cell_type": "markdown",
   "id": "0da6b36b-2e5b-41d9-87f0-5be448218dab",
   "metadata": {},
   "source": [
    "<h1>Importação do Banco de Dados em CSV e Criação das Tabelas no DW"
   ]
  },
  {
   "cell_type": "code",
   "execution_count": 2,
   "id": "5c8c9659-1f4a-4156-8677-0eb1aa4df10a",
   "metadata": {},
   "outputs": [],
   "source": [
    "# Conexão no postgre com o banco de dados Projeto_Integrador_3\n",
    "conn = psycopg2.connect(\"dbname=Projeto_Integrador_3 user=postgres password=vagan9ch\")\n",
    "cur = conn.cursor()\n",
    "\n",
    "# Criação das tabelas modeladas no Postgre\n",
    "cur.execute(\"CREATE TABLE vendedor_loja (id_vendedor_loja SERIAL PRIMARY KEY, nm_vendedor VARCHAR, nm_loja VARCHAR, cidade_loja VARCHAR, estado_loja VARCHAR, regiao_loja VARCHAR);\")\n",
    "cur.execute(\"CREATE TABLE cliente (id_cliente SERIAL PRIMARY KEY, cidade_cliente VARCHAR, estado_cliente VARCHAR, uf_cliente VARCHAR, faixa_idade VARCHAR, ocupacao VARCHAR);\")\n",
    "cur.execute(\"CREATE TABLE inadimplencia (id_inadimplencia SERIAL PRIMARY KEY, fg_pg_em_dia INTEGER, fg_atraso_30dias INTEGER, fg_atraso_60dias INTEGER, fg_atraso_90dias INTEGER);\")\n",
    "cur.execute(\"CREATE TABLE dados_veiculo (id_veiculo SERIAL PRIMARY KEY, cilindradas NUMERIC(30,2), qtd_portas INTEGER, qtd_assentos INTEGER, marca_veiculo VARCHAR, modelo_veiculo VARCHAR, tipo_veiculo VARCHAR, valor_veiculo NUMERIC(30,2), vetor_caracteristica FLOAT[]);\")\n",
    "cur.execute(\"CREATE TABLE tempo (id_tempo SERIAL PRIMARY KEY, mes VARCHAR, ano INTEGER);\")\n",
    "cur.execute(\"CREATE TABLE dados_financiamento (id_dados_financiamento SERIAL PRIMARY KEY, prazo VARCHAR, faixa_score VARCHAR);\")\n",
    "cur.execute(\"CREATE TABLE contratos_fato (id_contrato SERIAL PRIMARY KEY, id_inadimplencia INTEGER, id_vendedor_loja INTEGER, id_dados_financiamento INTEGER, id_tempo INTEGER, id_cliente INTEGER, id_veiculo INTEGER, vlr_financiado NUMERIC(30,2), vlr_entrada NUMERIC(30,2), vlr_juros NUMERIC(30,2), vlr_operacao NUMERIC(30,2), qtd_veiculos INTEGER);\")\n",
    "\n",
    "# Atribuição das chaves estrangeiras\n",
    "cur.execute(\"ALTER TABLE contratos_fato ADD FOREIGN KEY (id_inadimplencia) REFERENCES inadimplencia (id_inadimplencia);\")\n",
    "cur.execute(\"ALTER TABLE contratos_fato ADD FOREIGN KEY (id_vendedor_loja) REFERENCES vendedor_loja (id_vendedor_loja);\")\n",
    "cur.execute(\"ALTER TABLE contratos_fato ADD FOREIGN KEY (id_dados_financiamento) REFERENCES dados_financiamento (id_dados_financiamento);\")\n",
    "cur.execute(\"ALTER TABLE contratos_fato ADD FOREIGN KEY (id_tempo) REFERENCES tempo (id_tempo);\")\n",
    "cur.execute(\"ALTER TABLE contratos_fato ADD FOREIGN KEY (id_cliente) REFERENCES cliente (id_cliente);\")\n",
    "cur.execute(\"ALTER TABLE contratos_fato ADD FOREIGN KEY (id_veiculo) REFERENCES dados_veiculo (id_veiculo);\")\n",
    "\n",
    "# Execução das atualizações\n",
    "conn.commit()"
   ]
  },
  {
   "cell_type": "markdown",
   "id": "e484b119-3084-4617-b11c-9b9f2cdcf11b",
   "metadata": {},
   "source": [
    "<h1>Imputação dos Dados no PostgreSQL"
   ]
  },
  {
   "cell_type": "code",
   "execution_count": 3,
   "id": "0eaa3d79-9f7a-4758-8bc2-cecf263fda61",
   "metadata": {},
   "outputs": [],
   "source": [
    "#--------------------------------------------------------------\n",
    "# Imputando os dados da tabela / entidade vendedor_loja no DW\n",
    "#--------------------------------------------------------------\n",
    "\n",
    "# Imputando os dados via um looping no CSV linha por linha \n",
    "with open('G:/My Drive/Especialização/Disciplinas/Módulo 3/Projeto Integrador 3/Bases/tabela_vendedor_loja.csv',newline='', encoding='utf8', errors='ignore') as csvfile:\n",
    "    reader = csv.DictReader(csvfile, delimiter=';')\n",
    "    for row in reader:\n",
    "        if row['estado_loja'] != '':\n",
    "            insert = \"INSERT INTO vendedor_loja(nm_vendedor, nm_loja, cidade_loja, estado_loja, regiao_loja) VALUES (%s,%s,%s,%s,%s)\"\n",
    "            parametros = (row['nm_vendedor'], row['nm_loja'], row['cidade_loja'], row['estado_loja'], row['regiao_loja'])\n",
    "            cur.execute(insert, parametros)\n",
    "\n",
    "# Execução das atualizações\n",
    "conn.commit()"
   ]
  },
  {
   "cell_type": "code",
   "execution_count": 4,
   "id": "6a2ac212-ee63-4eaf-8f78-6ba0f386e404",
   "metadata": {},
   "outputs": [],
   "source": [
    "#--------------------------------------------------------------\n",
    "# Imputando os dados da tabela / entidade cliente no DW\n",
    "#--------------------------------------------------------------\n",
    "\n",
    "# Imputando os dados via um looping no CSV linha por linha \n",
    "with open('G:/My Drive/Especialização/Disciplinas/Módulo 3/Projeto Integrador 3/Bases/tabela_cliente.csv',newline='', encoding='utf8', errors='ignore') as csvfile:\n",
    "    reader = csv.DictReader(csvfile, delimiter=';')\n",
    "    for row in reader:\n",
    "        if row['uf_cliente'] != '':\n",
    "            insert = \"INSERT INTO cliente(cidade_cliente, estado_cliente, uf_cliente, ocupacao, faixa_idade) VALUES (%s,%s,%s,%s,%s)\"\n",
    "            parametros = (row['cidade_cliente'], row['estado_cliente'], row['uf_cliente'], row['ocupacao'], row['faixa_idade'])\n",
    "            cur.execute(insert, parametros)\n",
    "\n",
    "# Execução das atualizações\n",
    "conn.commit()"
   ]
  },
  {
   "cell_type": "code",
   "execution_count": 5,
   "id": "56d85a19-f6b3-478e-b39c-e03af48a11a5",
   "metadata": {},
   "outputs": [],
   "source": [
    "#--------------------------------------------------------------\n",
    "# Imputando os dados da tabela / entidade inadimplencia no DW\n",
    "#--------------------------------------------------------------\n",
    "\n",
    "# Imputando os dados via um looping no CSV linha por linha \n",
    "with open('G:/My Drive/Especialização/Disciplinas/Módulo 3/Projeto Integrador 3/Bases/tabela_inadimplencia.csv',newline='', encoding='utf8', errors='ignore') as csvfile:\n",
    "    reader = csv.DictReader(csvfile, delimiter=';')\n",
    "    for row in reader:\n",
    "        if row['fg_pg_em_dia'] != '':\n",
    "            insert = \"INSERT INTO inadimplencia(fg_pg_em_dia, fg_atraso_30dias, fg_atraso_60dias, fg_atraso_90dias) VALUES (%s,%s,%s,%s)\"\n",
    "            parametros = (row['fg_pg_em_dia'], row['fg_atraso_30dias'], row['fg_atraso_60dias'], row['fg_atraso_90dias'])\n",
    "            cur.execute(insert, parametros)\n",
    "\n",
    "# Execução das atualizações\n",
    "conn.commit()"
   ]
  },
  {
   "cell_type": "code",
   "execution_count": 6,
   "id": "7a98239d-addf-4788-acc7-0ef6cedb317d",
   "metadata": {},
   "outputs": [],
   "source": [
    "#--------------------------------------------------------------\n",
    "# Imputando os dados da tabela / entidade dados_veiculo no DW\n",
    "#--------------------------------------------------------------\n",
    "\n",
    "# Imputando os dados via um looping no CSV linha por linha \n",
    "with open('G:/My Drive/Especialização/Disciplinas/Módulo 3/Projeto Integrador 3/Bases/tabela_dados_veiculos.csv',newline='', encoding='utf8', errors='ignore') as csvfile:\n",
    "    reader = csv.DictReader(csvfile, delimiter=';')\n",
    "    for row in reader:\n",
    "        if row['modelo_veiculo'] != '':\n",
    "            insert = \"INSERT INTO dados_veiculo(cilindradas, qtd_portas, qtd_assentos, marca_veiculo, modelo_veiculo, tipo_veiculo, valor_veiculo, vetor_caracteristica) VALUES (%s,%s,%s,%s,%s,%s,%s,%s)\"\n",
    "            parametros = (row['cilindradas'], row['qtd_portas'], row['qtd_assentos'], row['marca_veiculo'], row['modelo_veiculo'], row['tipo_veiculo'], row['valor_veiculo'], row['vetor_caracteristica'])\n",
    "            cur.execute(insert, parametros)\n",
    "\n",
    "# Execução das atualizações\n",
    "conn.commit()"
   ]
  },
  {
   "cell_type": "code",
   "execution_count": 7,
   "id": "e5777597-d4a6-4c0d-8f95-5d4ba9ac5677",
   "metadata": {},
   "outputs": [],
   "source": [
    "#--------------------------------------------------------------\n",
    "# Imputando os dados da tabela / entidade tempo no DW\n",
    "#--------------------------------------------------------------\n",
    "\n",
    "# Imputando os dados via um looping no CSV linha por linha \n",
    "with open('G:/My Drive/Especialização/Disciplinas/Módulo 3/Projeto Integrador 3/Bases/tabela_tempo.csv',newline='', encoding='utf8', errors='ignore') as csvfile:\n",
    "    reader = csv.DictReader(csvfile, delimiter=';')\n",
    "    for row in reader:\n",
    "        if row['mes'] != '':\n",
    "            insert = \"INSERT INTO tempo(mes, ano) VALUES (%s,%s)\"\n",
    "            parametros = (row['mes'], row['ano'])\n",
    "            cur.execute(insert, parametros)\n",
    "\n",
    "# Execução das atualizações\n",
    "conn.commit()"
   ]
  },
  {
   "cell_type": "code",
   "execution_count": 8,
   "id": "2bd121a9-6f6f-4778-b939-4b45e15502d9",
   "metadata": {},
   "outputs": [],
   "source": [
    "#--------------------------------------------------------------\n",
    "# Imputando os dados da tabela / entidade dados_financiamento no DW\n",
    "#--------------------------------------------------------------\n",
    "# Imputando os dados via um looping no CSV linha por linha \n",
    "with open('G:/My Drive/Especialização/Disciplinas/Módulo 3/Projeto Integrador 3/Bases/tabela_dados_financiamento.csv',newline='', encoding='utf8', errors='ignore') as csvfile:\n",
    "    reader = csv.DictReader(csvfile, delimiter=';')\n",
    "    for row in reader:\n",
    "        if row['prazo'] != '':\n",
    "            insert = \"INSERT INTO dados_financiamento(prazo, faixa_score) VALUES (%s,%s)\"\n",
    "            parametros = (row['prazo'], row['faixa_score'])\n",
    "            cur.execute(insert, parametros)\n",
    "\n",
    "# Execução das atualizações\n",
    "conn.commit()"
   ]
  },
  {
   "cell_type": "code",
   "execution_count": 11,
   "id": "02498728-544d-4ab4-9297-ab6739bbdad0",
   "metadata": {},
   "outputs": [],
   "source": [
    "#-------------------------------------------------------------\n",
    "# Imputando os dados da tabela / entidade contratos_fato no DW\n",
    "#-------------------------------------------------------------\n",
    "\n",
    "# Imputando os dados via um looping no CSV linha por linha \n",
    "with open('G:/My Drive/Especialização/Disciplinas/Módulo 3/Projeto Integrador 3/Bases/tabela_fato.csv',newline='', encoding='utf8', errors='ignore') as csvfile:\n",
    "    reader = csv.DictReader(csvfile, delimiter=';')\n",
    "    for row in reader:\n",
    "        if row['vlr_financiado'] != '':\n",
    "            id_vendedor_loja = 0\n",
    "            id_cliente = 0\n",
    "            id_inadimplencia = 0\n",
    "            id_veiculo = 0\n",
    "            id_tempo = 0\n",
    "            id_dados_financiamento = 0\n",
    " \n",
    "            query1 = \"SELECT id_vendedor_loja FROM vendedor_loja WHERE id_vendedor_loja = '%s'\"\n",
    "            var1 = row['id_vendedor_loja']\n",
    "            \n",
    "            query2 = \"SELECT id_cliente FROM cliente WHERE id_cliente = '%s'\"\n",
    "            var2 = row['id_cliente']\n",
    "            \n",
    "            query3 = \"SELECT id_inadimplencia FROM inadimplencia WHERE id_inadimplencia = '%s'\"\n",
    "            var3 = row['id_inadimplencia']\n",
    "\n",
    "            query4 = \"SELECT id_veiculo FROM dados_veiculo WHERE id_veiculo = '%s'\"\n",
    "            var4 = row['id_veiculo']\n",
    "            \n",
    "            query5 = \"SELECT id_tempo FROM tempo WHERE id_tempo = '%s'\"\n",
    "            var5 = row['id_tempo']\n",
    "            \n",
    "            query6 = \"SELECT id_dados_financiamento FROM dados_financiamento WHERE id_dados_financiamento = '%s'\"\n",
    "            var6 = row['id_dados_financiamento']\n",
    "            \n",
    "            cur.execute(query1 % var1)\n",
    "            id_vendedor_loja = cur.fetchone()\n",
    "            \n",
    "            cur.execute(query2 % var2)\n",
    "            id_cliente = cur.fetchone()\n",
    "            \n",
    "            cur.execute(query3 % var3)\n",
    "            id_inadimplencia = cur.fetchone()\n",
    "            \n",
    "            cur.execute(query4 % var4)\n",
    "            id_veiculo = cur.fetchone()\n",
    "            \n",
    "            cur.execute(query5 % var5)\n",
    "            id_tempo = cur.fetchone()\n",
    "            \n",
    "            cur.execute(query6 % var6)\n",
    "            id_dados_financiamento = cur.fetchone()\n",
    "            \n",
    "            insert = \"INSERT INTO contratos_fato(id_inadimplencia, id_vendedor_loja, id_dados_financiamento, id_tempo, id_cliente, id_veiculo, vlr_financiado, vlr_entrada, vlr_juros, vlr_operacao, qtd_veiculos) VALUES (%s,%s,%s,%s,%s,%s,%s,%s,%s,%s,%s)\"\n",
    "            parametros = (id_inadimplencia[0], id_vendedor_loja[0], id_dados_financiamento[0], id_tempo[0], id_cliente[0], id_veiculo[0], row['vlr_financiado'], row['vlr_entrada'], row['vlr_juros'], row['vlr_operacao'], row['qtd_veiculos'])\n",
    "            cur.execute(insert, parametros)\n",
    "            \n",
    "# Execução das atualizações            \n",
    "conn.commit()"
   ]
  }
 ],
 "metadata": {
  "kernelspec": {
   "display_name": "Python 3",
   "language": "python",
   "name": "python3"
  },
  "language_info": {
   "codemirror_mode": {
    "name": "ipython",
    "version": 3
   },
   "file_extension": ".py",
   "mimetype": "text/x-python",
   "name": "python",
   "nbconvert_exporter": "python",
   "pygments_lexer": "ipython3",
   "version": "3.8.8"
  }
 },
 "nbformat": 4,
 "nbformat_minor": 5
}
